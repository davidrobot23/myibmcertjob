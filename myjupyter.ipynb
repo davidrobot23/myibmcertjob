{
 "cells": [
  {
   "cell_type": "markdown",
   "id": "feffa594",
   "metadata": {},
   "source": [
    "# My Jupyter Notebook on IBM Watson Studio"
   ]
  },
  {
   "cell_type": "markdown",
   "id": "62b5608f",
   "metadata": {},
   "source": [
    "## David Andrian Mince"
   ]
  },
  {
   "cell_type": "markdown",
   "id": "e4d279a4",
   "metadata": {},
   "source": [
    "### 100% human"
   ]
  },
  {
   "cell_type": "markdown",
   "id": "33a6e5c4",
   "metadata": {},
   "source": [
    "##### i am interested in data science because of analysis"
   ]
  },
  {
   "cell_type": "markdown",
   "id": "0069fc88",
   "metadata": {},
   "source": [
    "### This following code will add a variable with one"
   ]
  },
  {
   "cell_type": "code",
   "execution_count": 4,
   "id": "92c2d09e",
   "metadata": {},
   "outputs": [
    {
     "name": "stdout",
     "output_type": "stream",
     "text": [
      "2\n",
      "3\n",
      "4\n",
      "5\n",
      "6\n"
     ]
    }
   ],
   "source": [
    "n=[1,2,3,4,5]\n",
    "for x in n :\n",
    "    x=x+1\n",
    "    print(x)\n"
   ]
  },
  {
   "cell_type": "markdown",
   "id": "ea30a598",
   "metadata": {},
   "source": [
    "- one\n",
    "- two\n",
    "- three\n",
    "- four"
   ]
  },
  {
   "cell_type": "markdown",
   "id": "1aea66cb",
   "metadata": {},
   "source": [
    "1. is one\n",
    "2. is two\n",
    "3. is three\n",
    "4. is four\n",
    "5. is five"
   ]
  },
  {
   "cell_type": "markdown",
   "id": "5f7a1589",
   "metadata": {},
   "source": [
    "[how to make a link](https://anvilproject.org/guides/content/creating-links)"
   ]
  },
  {
   "cell_type": "code",
   "execution_count": null,
   "id": "2ddd07f6",
   "metadata": {},
   "outputs": [],
   "source": []
  }
 ],
 "metadata": {
  "kernelspec": {
   "display_name": "Python 3 (ipykernel)",
   "language": "python",
   "name": "python3"
  },
  "language_info": {
   "codemirror_mode": {
    "name": "ipython",
    "version": 3
   },
   "file_extension": ".py",
   "mimetype": "text/x-python",
   "name": "python",
   "nbconvert_exporter": "python",
   "pygments_lexer": "ipython3",
   "version": "3.9.7"
  }
 },
 "nbformat": 4,
 "nbformat_minor": 5
}
